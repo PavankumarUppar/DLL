{
  "nbformat": 4,
  "nbformat_minor": 0,
  "metadata": {
    "colab": {
      "provenance": [],
      "authorship_tag": "ABX9TyMqhM3oGZKwXmwKhfE6oK8Z",
      "include_colab_link": true
    },
    "kernelspec": {
      "name": "python3",
      "display_name": "Python 3"
    },
    "language_info": {
      "name": "python"
    }
  },
  "cells": [
    {
      "cell_type": "markdown",
      "metadata": {
        "id": "view-in-github",
        "colab_type": "text"
      },
      "source": [
        "<a href=\"https://colab.research.google.com/github/PavankumarUppar/DLL/blob/main/Program1.ipynb\" target=\"_parent\"><img src=\"https://colab.research.google.com/assets/colab-badge.svg\" alt=\"Open In Colab\"/></a>"
      ]
    },
    {
      "cell_type": "code",
      "execution_count": 1,
      "metadata": {
        "colab": {
          "base_uri": "https://localhost:8080/"
        },
        "id": "Aa8RyDPgnL4c",
        "outputId": "72d6fe81-00fa-4395-8eab-ebcd52b0a64e"
      },
      "outputs": [
        {
          "output_type": "stream",
          "name": "stdout",
          "text": [
            "Epoch 1/10\n",
            "25/25 [==============================] - 4s 34ms/step - loss: 0.6989 - accuracy: 0.5175 - val_loss: 0.6914 - val_accuracy: 0.5100\n",
            "Epoch 2/10\n",
            "25/25 [==============================] - 0s 19ms/step - loss: 0.6927 - accuracy: 0.4900 - val_loss: 0.6930 - val_accuracy: 0.5000\n",
            "Epoch 3/10\n",
            "25/25 [==============================] - 1s 23ms/step - loss: 0.6943 - accuracy: 0.5113 - val_loss: 0.6906 - val_accuracy: 0.5650\n",
            "Epoch 4/10\n",
            "25/25 [==============================] - 0s 20ms/step - loss: 0.6915 - accuracy: 0.5250 - val_loss: 0.6914 - val_accuracy: 0.5100\n",
            "Epoch 5/10\n",
            "25/25 [==============================] - 0s 18ms/step - loss: 0.6928 - accuracy: 0.5325 - val_loss: 0.6906 - val_accuracy: 0.5200\n",
            "Epoch 6/10\n",
            "25/25 [==============================] - 0s 17ms/step - loss: 0.6917 - accuracy: 0.5113 - val_loss: 0.6914 - val_accuracy: 0.5150\n",
            "Epoch 7/10\n",
            "25/25 [==============================] - 1s 26ms/step - loss: 0.6915 - accuracy: 0.5175 - val_loss: 0.6902 - val_accuracy: 0.5300\n",
            "Epoch 8/10\n",
            "25/25 [==============================] - 1s 29ms/step - loss: 0.6914 - accuracy: 0.5275 - val_loss: 0.6905 - val_accuracy: 0.5150\n",
            "Epoch 9/10\n",
            "25/25 [==============================] - 0s 19ms/step - loss: 0.6897 - accuracy: 0.5362 - val_loss: 0.6905 - val_accuracy: 0.5250\n",
            "Epoch 10/10\n",
            "25/25 [==============================] - 0s 18ms/step - loss: 0.6896 - accuracy: 0.5263 - val_loss: 0.6906 - val_accuracy: 0.5200\n",
            "7/7 [==============================] - 0s 9ms/step - loss: 0.6906 - accuracy: 0.5200\n",
            "Test Loss: 0.6905937194824219, Test Accuracy: 0.5199999809265137\n"
          ]
        }
      ],
      "source": [
        "import tensorflow as tf\n",
        "import numpy as np\n",
        "from sklearn.model_selection import train_test_split\n",
        "from sklearn.preprocessing import StandardScaler\n",
        "\n",
        "# Generate some random data for demonstration purposes\n",
        "np.random.seed(42)\n",
        "X = np.random.rand(1000, 10)\n",
        "y = np.random.randint(2, size=(1000, 1))\n",
        "\n",
        "# Split the data into training and testing sets\n",
        "X_train, X_test, y_train, y_test = train_test_split(X, y, test_size=0.2, random_state=42)\n",
        "\n",
        "# Standardize the data\n",
        "scaler = StandardScaler()\n",
        "X_train = scaler.fit_transform(X_train)\n",
        "X_test = scaler.transform(X_test)\n",
        "\n",
        "# Define the neural network architecture\n",
        "model = tf.keras.Sequential([\n",
        "    tf.keras.layers.Dense(64, input_shape=(X_train.shape[1],), activation='sigmoid'),\n",
        "    tf.keras.layers.Dense(32, activation='sigmoid'),\n",
        "    tf.keras.layers.Dense(1, activation='sigmoid')\n",
        "])\n",
        "\n",
        "# Compile the model\n",
        "model.compile(optimizer='adam', loss='binary_crossentropy', metrics=['accuracy'])\n",
        "\n",
        "# Train the model\n",
        "model.fit(X_train, y_train, epochs=10, batch_size=32, validation_data=(X_test, y_test))\n",
        "\n",
        "# Evaluate the model on the test set\n",
        "loss, accuracy = model.evaluate(X_test, y_test)\n",
        "print(f'Test Loss: {loss}, Test Accuracy: {accuracy}')"
      ]
    }
  ]
}