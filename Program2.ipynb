{
  "nbformat": 4,
  "nbformat_minor": 0,
  "metadata": {
    "colab": {
      "provenance": [],
      "authorship_tag": "ABX9TyPjaZaDkuceUFLh7l+4o9sx",
      "include_colab_link": true
    },
    "kernelspec": {
      "name": "python3",
      "display_name": "Python 3"
    },
    "language_info": {
      "name": "python"
    }
  },
  "cells": [
    {
      "cell_type": "markdown",
      "metadata": {
        "id": "view-in-github",
        "colab_type": "text"
      },
      "source": [
        "<a href=\"https://colab.research.google.com/github/PavankumarUppar/DLL/blob/main/Program2.ipynb\" target=\"_parent\"><img src=\"https://colab.research.google.com/assets/colab-badge.svg\" alt=\"Open In Colab\"/></a>"
      ]
    },
    {
      "cell_type": "code",
      "source": [
        "import torch\n",
        "import torch.nn as nn\n",
        "import torch.optim as optim\n",
        "from torch.utils.data import TensorDataset, DataLoader\n",
        "from sklearn.model_selection import train_test_split\n",
        "from sklearn.preprocessing import StandardScaler\n",
        "import numpy as np\n",
        "\n",
        "# Set random seed for reproducibility\n",
        "torch.manual_seed(42)\n",
        "\n",
        "# Generate some random data for demonstration purposes\n",
        "np.random.seed(42)\n",
        "X = np.random.rand(1000, 10).astype(np.float32)\n",
        "y = np.random.randint(2, size=(1000, 1)).astype(np.float32)\n",
        "\n",
        "# Split the data into training and testing sets\n",
        "X_train, X_test, y_train, y_test = train_test_split(X, y, test_size=0.2, random_state=42)\n",
        "\n",
        "# Standardize the data\n",
        "scaler = StandardScaler()\n",
        "X_train = scaler.fit_transform(X_train)\n",
        "X_test = scaler.transform(X_test)\n",
        "\n",
        "# Convert data to PyTorch tensors\n",
        "X_train_tensor = torch.tensor(X_train)\n",
        "y_train_tensor = torch.tensor(y_train)\n",
        "X_test_tensor = torch.tensor(X_test)\n",
        "y_test_tensor = torch.tensor(y_test)\n",
        "\n",
        "# Define the neural network architecture\n",
        "class CustomModel(nn.Module):\n",
        "    def __init__(self):\n",
        "        super(CustomModel, self).__init__()\n",
        "        self.fc1 = nn.Linear(X_train.shape[1], 1)\n",
        "        self.fc2 = nn.Linear(1, 64)\n",
        "        self.activation1 = nn.Tanh()\n",
        "        self.fc3 = nn.Linear(64, 32)\n",
        "        self.activation2 = nn.ReLU()\n",
        "        self.fc4 = nn.Linear(32, 1)\n",
        "        self.activation3 = nn.Sigmoid()\n",
        "\n",
        "    def forward(self, x):\n",
        "        x = self.fc1(x)\n",
        "        x = self.fc2(x)\n",
        "        x = self.activation1(x)\n",
        "        x = self.fc3(x)\n",
        "        x = self.activation2(x)\n",
        "        x = self.fc4(x)\n",
        "        x = self.activation3(x)\n",
        "        return x\n",
        "\n",
        "# Instantiate the model\n",
        "model = CustomModel()\n",
        "\n",
        "# Define the loss function and optimizer\n",
        "criterion = nn.BCELoss()\n",
        "optimizer = optim.Adam(model.parameters())\n",
        "\n",
        "# Convert data to PyTorch DataLoader\n",
        "train_dataset = TensorDataset(X_train_tensor, y_train_tensor)\n",
        "train_loader = DataLoader(train_dataset, batch_size=32, shuffle=True)\n",
        "\n",
        "# Train the model\n",
        "num_epochs = 10\n",
        "for epoch in range(num_epochs):\n",
        "    for inputs, labels in train_loader:\n",
        "        optimizer.zero_grad()\n",
        "        outputs = model(inputs)\n",
        "        loss = criterion(outputs, labels)\n",
        "        loss.backward()\n",
        "        optimizer.step()\n",
        "\n",
        "# Evaluate the model on the test set\n",
        "with torch.no_grad():\n",
        "    model.eval()\n",
        "    outputs = model(X_test_tensor)\n",
        "    loss = criterion(outputs, y_test_tensor)\n",
        "    predicted_labels = (outputs >= 0.5).float()\n",
        "    accuracy = (predicted_labels == y_test_tensor).float().mean()\n",
        "\n",
        "print(f'Test Loss: {loss.item()}, Test Accuracy: {accuracy.item()}')"
      ],
      "metadata": {
        "id": "T3u9vb5pt1vQ",
        "outputId": "97814bc7-f45f-4050-deef-c176e9dc3bed",
        "colab": {
          "base_uri": "https://localhost:8080/"
        }
      },
      "execution_count": 2,
      "outputs": [
        {
          "output_type": "stream",
          "name": "stdout",
          "text": [
            "Test Loss: 0.6998092532157898, Test Accuracy: 0.4350000023841858\n"
          ]
        }
      ]
    },
    {
      "cell_type": "code",
      "source": [],
      "metadata": {
        "id": "MkwAWleguGPd"
      },
      "execution_count": null,
      "outputs": []
    }
  ]
}