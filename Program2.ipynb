{
  "nbformat": 4,
  "nbformat_minor": 0,
  "metadata": {
    "colab": {
      "provenance": [],
      "authorship_tag": "ABX9TyNYZSs+NwbKJA99wSdCReCH",
      "include_colab_link": true
    },
    "kernelspec": {
      "name": "python3",
      "display_name": "Python 3"
    },
    "language_info": {
      "name": "python"
    }
  },
  "cells": [
    {
      "cell_type": "markdown",
      "metadata": {
        "id": "view-in-github",
        "colab_type": "text"
      },
      "source": [
        "<a href=\"https://colab.research.google.com/github/PavankumarUppar/DLL/blob/main/Program2.ipynb\" target=\"_parent\"><img src=\"https://colab.research.google.com/assets/colab-badge.svg\" alt=\"Open In Colab\"/></a>"
      ]
    },
    {
      "cell_type": "code",
      "execution_count": 1,
      "metadata": {
        "colab": {
          "base_uri": "https://localhost:8080/"
        },
        "id": "uxzKIu4Wnuir",
        "outputId": "ab68e85f-f3ee-4a62-88bc-840655c2bf76"
      },
      "outputs": [
        {
          "output_type": "stream",
          "name": "stdout",
          "text": [
            "Epoch 1/10\n",
            "25/25 [==============================] - 5s 77ms/step - loss: 0.6955 - accuracy: 0.5175 - val_loss: 0.6981 - val_accuracy: 0.4550\n",
            "Epoch 2/10\n",
            "25/25 [==============================] - 0s 17ms/step - loss: 0.6908 - accuracy: 0.5188 - val_loss: 0.6970 - val_accuracy: 0.4950\n",
            "Epoch 3/10\n",
            "25/25 [==============================] - 0s 14ms/step - loss: 0.6919 - accuracy: 0.5200 - val_loss: 0.6987 - val_accuracy: 0.4550\n",
            "Epoch 4/10\n",
            "25/25 [==============================] - 0s 17ms/step - loss: 0.6916 - accuracy: 0.5150 - val_loss: 0.6940 - val_accuracy: 0.5250\n",
            "Epoch 5/10\n",
            "25/25 [==============================] - 0s 12ms/step - loss: 0.6898 - accuracy: 0.5263 - val_loss: 0.6986 - val_accuracy: 0.4650\n",
            "Epoch 6/10\n",
            "25/25 [==============================] - 0s 18ms/step - loss: 0.6897 - accuracy: 0.5100 - val_loss: 0.6961 - val_accuracy: 0.4900\n",
            "Epoch 7/10\n",
            "25/25 [==============================] - 0s 14ms/step - loss: 0.6890 - accuracy: 0.5387 - val_loss: 0.6967 - val_accuracy: 0.4750\n",
            "Epoch 8/10\n",
            "25/25 [==============================] - 0s 14ms/step - loss: 0.6904 - accuracy: 0.5300 - val_loss: 0.6946 - val_accuracy: 0.4750\n",
            "Epoch 9/10\n",
            "25/25 [==============================] - 0s 14ms/step - loss: 0.6907 - accuracy: 0.5150 - val_loss: 0.6954 - val_accuracy: 0.5000\n",
            "Epoch 10/10\n",
            "25/25 [==============================] - 1s 22ms/step - loss: 0.6883 - accuracy: 0.5437 - val_loss: 0.6960 - val_accuracy: 0.4850\n",
            "7/7 [==============================] - 0s 7ms/step - loss: 0.6960 - accuracy: 0.4850\n",
            "Test Loss: 0.695997416973114, Test Accuracy: 0.48500001430511475\n"
          ]
        }
      ],
      "source": [
        "import tensorflow as tf\n",
        "import numpy as np\n",
        "from sklearn.model_selection import train_test_split\n",
        "from sklearn.preprocessing import StandardScaler\n",
        "\n",
        "# Generate some random data for demonstration purposes\n",
        "np.random.seed(42)\n",
        "X = np.random.rand(1000, 10)\n",
        "y = np.random.randint(2, size=(1000, 1))\n",
        "\n",
        "# Split the data into training and testing sets\n",
        "X_train, X_test, y_train, y_test = train_test_split(X, y, test_size=0.2, random_state=42)\n",
        "\n",
        "# Standardize the data\n",
        "scaler = StandardScaler()\n",
        "X_train = scaler.fit_transform(X_train)\n",
        "X_test = scaler.transform(X_test)\n",
        "\n",
        "# Define the neural network architecture\n",
        "model = tf.keras.Sequential([\n",
        "    tf.keras.layers.Dense(1, input_shape=(X_train.shape[1],), activation='linear'),\n",
        "    tf.keras.layers.Dense(64, activation='tanh'),\n",
        "    tf.keras.layers.Dense(32, activation='relu'),\n",
        "    tf.keras.layers.Dense(1, activation='sigmoid')  # For binary classification\n",
        "    # If you have more than two classes, use 'softmax' activation and adjust the number of units accordingly\n",
        "    # tf.keras.layers.Dense(num_classes, activation='softmax')\n",
        "])\n",
        "\n",
        "# Compile the model\n",
        "model.compile(optimizer='adam', loss='binary_crossentropy', metrics=['accuracy'])\n",
        "# For multi-class classification, use 'categorical_crossentropy' as the loss function\n",
        "\n",
        "# Train the model\n",
        "model.fit(X_train, y_train, epochs=10, batch_size=32, validation_data=(X_test, y_test))\n",
        "\n",
        "# Evaluate the model on the test set\n",
        "loss, accuracy = model.evaluate(X_test, y_test)\n",
        "print(f'Test Loss: {loss}, Test Accuracy: {accuracy}')"
      ]
    }
  ]
}