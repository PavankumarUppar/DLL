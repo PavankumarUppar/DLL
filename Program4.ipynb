{
  "nbformat": 4,
  "nbformat_minor": 0,
  "metadata": {
    "colab": {
      "provenance": [],
      "authorship_tag": "ABX9TyPd/Vap6SEbog57y1cjTHpd",
      "include_colab_link": true
    },
    "kernelspec": {
      "name": "python3",
      "display_name": "Python 3"
    },
    "language_info": {
      "name": "python"
    }
  },
  "cells": [
    {
      "cell_type": "markdown",
      "metadata": {
        "id": "view-in-github",
        "colab_type": "text"
      },
      "source": [
        "<a href=\"https://colab.research.google.com/github/PavankumarUppar/DLL/blob/main/Program4.ipynb\" target=\"_parent\"><img src=\"https://colab.research.google.com/assets/colab-badge.svg\" alt=\"Open In Colab\"/></a>"
      ]
    },
    {
      "cell_type": "code",
      "execution_count": 3,
      "metadata": {
        "colab": {
          "base_uri": "https://localhost:8080/"
        },
        "id": "ul7MQHs00Ai_",
        "outputId": "1e4c296d-54d1-44c8-8050-60dfddbb2d85"
      },
      "outputs": [
        {
          "output_type": "stream",
          "name": "stdout",
          "text": [
            "Epoch [1/5], Step [100/750], Loss: 1.6203\n",
            "Epoch [1/5], Step [200/750], Loss: 1.6402\n",
            "Epoch [1/5], Step [300/750], Loss: 1.6096\n",
            "Epoch [1/5], Step [400/750], Loss: 1.4902\n",
            "Epoch [1/5], Step [500/750], Loss: 1.5550\n",
            "Epoch [1/5], Step [600/750], Loss: 1.5586\n",
            "Epoch [1/5], Step [700/750], Loss: 1.5635\n",
            "Epoch [2/5], Step [100/750], Loss: 1.5782\n",
            "Epoch [2/5], Step [200/750], Loss: 1.6024\n",
            "Epoch [2/5], Step [300/750], Loss: 1.5735\n",
            "Epoch [2/5], Step [400/750], Loss: 1.6301\n",
            "Epoch [2/5], Step [500/750], Loss: 1.4964\n",
            "Epoch [2/5], Step [600/750], Loss: 1.4797\n",
            "Epoch [2/5], Step [700/750], Loss: 1.5157\n",
            "Epoch [3/5], Step [100/750], Loss: 1.4655\n",
            "Epoch [3/5], Step [200/750], Loss: 1.4761\n",
            "Epoch [3/5], Step [300/750], Loss: 1.4924\n",
            "Epoch [3/5], Step [400/750], Loss: 1.4704\n",
            "Epoch [3/5], Step [500/750], Loss: 1.4613\n",
            "Epoch [3/5], Step [600/750], Loss: 1.4612\n",
            "Epoch [3/5], Step [700/750], Loss: 1.4693\n",
            "Epoch [4/5], Step [100/750], Loss: 1.5047\n",
            "Epoch [4/5], Step [200/750], Loss: 1.4942\n",
            "Epoch [4/5], Step [300/750], Loss: 1.4660\n",
            "Epoch [4/5], Step [400/750], Loss: 1.4807\n",
            "Epoch [4/5], Step [500/750], Loss: 1.5553\n",
            "Epoch [4/5], Step [600/750], Loss: 1.4804\n",
            "Epoch [4/5], Step [700/750], Loss: 1.4712\n",
            "Epoch [5/5], Step [100/750], Loss: 1.4617\n",
            "Epoch [5/5], Step [200/750], Loss: 1.4984\n",
            "Epoch [5/5], Step [300/750], Loss: 1.4848\n",
            "Epoch [5/5], Step [400/750], Loss: 1.4785\n",
            "Epoch [5/5], Step [500/750], Loss: 1.4811\n",
            "Epoch [5/5], Step [600/750], Loss: 1.4767\n",
            "Epoch [5/5], Step [700/750], Loss: 1.4891\n",
            "Validation Accuracy: 98.65%\n",
            "Test Accuracy: 98.76%\n"
          ]
        }
      ],
      "source": [
        "import torch\n",
        "import torch.nn as nn\n",
        "import torch.optim as optim\n",
        "import torchvision\n",
        "from torchvision import transforms\n",
        "from torch.utils.data import DataLoader\n",
        "from sklearn.model_selection import train_test_split\n",
        "\n",
        "# MNIST dataset\n",
        "transform = transforms.Compose([\n",
        "    transforms.ToTensor(),\n",
        "    transforms.Normalize((0.5,), (0.5,))\n",
        "])\n",
        "\n",
        "train_dataset = torchvision.datasets.MNIST(root='./data', train=True, download=True, transform=transform)\n",
        "test_dataset = torchvision.datasets.MNIST(root='./data', train=False, download=True, transform=transform)\n",
        "\n",
        "# Splitting training dataset into train and validation sets\n",
        "train_data, val_data = train_test_split(train_dataset, test_size=0.2, random_state=42, shuffle=True)\n",
        "\n",
        "train_loader = DataLoader(train_data, batch_size=64, shuffle=True)\n",
        "val_loader = DataLoader(val_data, batch_size=64, shuffle=False)\n",
        "test_loader = DataLoader(test_dataset, batch_size=64, shuffle=False)\n",
        "\n",
        "# Define the CNN architecture\n",
        "class CNN(nn.Module):\n",
        "    def __init__(self):\n",
        "        super(CNN, self).__init__()\n",
        "        self.conv1 = nn.Conv2d(in_channels=1, out_channels=16, kernel_size=3, stride=1, padding=1)\n",
        "        self.conv2 = nn.Conv2d(16, 32, kernel_size=3, stride=1, padding=1)\n",
        "        self.pool = nn.MaxPool2d(kernel_size=2, stride=2, padding=0)\n",
        "        self.fc1 = nn.Linear(32 * 7 * 7, 128)\n",
        "        self.fc2 = nn.Linear(128, 10)\n",
        "        self.relu = nn.ReLU()\n",
        "        self.softmax = nn.Softmax(dim=1)\n",
        "\n",
        "    def forward(self, x):\n",
        "        x = self.pool(self.relu(self.conv1(x)))\n",
        "        x = self.pool(self.relu(self.conv2(x)))\n",
        "        x = x.view(-1, 32 * 7 * 7)  # Flatten the tensor\n",
        "        x = self.relu(self.fc1(x))\n",
        "        x = self.fc2(x)\n",
        "        x = self.softmax(x)\n",
        "        return x\n",
        "\n",
        "# Create an instance of the CNN\n",
        "model = CNN()\n",
        "\n",
        "# Define loss function and optimizer\n",
        "criterion = nn.CrossEntropyLoss()\n",
        "optimizer = optim.Adam(model.parameters(), lr=0.001)\n",
        "\n",
        "# Training the model\n",
        "num_epochs = 5\n",
        "total_step = len(train_loader)\n",
        "for epoch in range(num_epochs):\n",
        "    model.train()\n",
        "    for i, (images, labels) in enumerate(train_loader):\n",
        "        outputs = model(images)\n",
        "        loss = criterion(outputs, labels)\n",
        "        optimizer.zero_grad()\n",
        "        loss.backward()\n",
        "        optimizer.step()\n",
        "\n",
        "        if (i+1) % 100 == 0:\n",
        "            print(f\"Epoch [{epoch+1}/{num_epochs}], Step [{i+1}/{total_step}], Loss: {loss.item():.4f}\")\n",
        "\n",
        "# Evaluation on validation set\n",
        "model.eval()\n",
        "with torch.no_grad():\n",
        "    correct = 0\n",
        "    total = 0\n",
        "    for images, labels in val_loader:\n",
        "        outputs = model(images)\n",
        "        _, predicted = torch.max(outputs.data, 1)\n",
        "        total += labels.size(0)\n",
        "        correct += (predicted == labels).sum().item()\n",
        "\n",
        "    print(f\"Validation Accuracy: {100 * correct / total}%\")\n",
        "\n",
        "# Evaluation on test set\n",
        "model.eval()\n",
        "with torch.no_grad():\n",
        "    correct = 0\n",
        "    total = 0\n",
        "    for images, labels in test_loader:\n",
        "        outputs = model(images)\n",
        "        _, predicted = torch.max(outputs.data, 1)\n",
        "        total += labels.size(0)\n",
        "        correct += (predicted == labels).sum().item()\n",
        "\n",
        "    print(f\"Test Accuracy: {100 * correct / total}%\")\n"
      ]
    },
    {
      "cell_type": "code",
      "source": [],
      "metadata": {
        "id": "TPusR1Oi0RM1"
      },
      "execution_count": null,
      "outputs": []
    }
  ]
}