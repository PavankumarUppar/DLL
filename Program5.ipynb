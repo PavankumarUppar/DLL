{
  "nbformat": 4,
  "nbformat_minor": 0,
  "metadata": {
    "colab": {
      "provenance": [],
      "authorship_tag": "ABX9TyOzNU3rbuXDajrh/0Q6NNE5",
      "include_colab_link": true
    },
    "kernelspec": {
      "name": "python3",
      "display_name": "Python 3"
    },
    "language_info": {
      "name": "python"
    }
  },
  "cells": [
    {
      "cell_type": "markdown",
      "metadata": {
        "id": "view-in-github",
        "colab_type": "text"
      },
      "source": [
        "<a href=\"https://colab.research.google.com/github/PavankumarUppar/DLL/blob/main/Program5.ipynb\" target=\"_parent\"><img src=\"https://colab.research.google.com/assets/colab-badge.svg\" alt=\"Open In Colab\"/></a>"
      ]
    },
    {
      "cell_type": "code",
      "execution_count": 1,
      "metadata": {
        "colab": {
          "base_uri": "https://localhost:8080/"
        },
        "id": "HIPzhxJT7Ndm",
        "outputId": "d58aba74-68ad-47a4-c74a-8109cc87dbfe"
      },
      "outputs": [
        {
          "output_type": "stream",
          "name": "stdout",
          "text": [
            "Epoch [10/100], Loss: 0.945843\n",
            "Epoch [20/100], Loss: 0.945254\n",
            "Epoch [30/100], Loss: 0.945132\n",
            "Epoch [40/100], Loss: 0.944545\n",
            "Epoch [50/100], Loss: 0.944425\n",
            "Epoch [60/100], Loss: 0.944218\n",
            "Epoch [70/100], Loss: 0.943930\n",
            "Epoch [80/100], Loss: 0.943528\n",
            "Epoch [90/100], Loss: 0.942899\n",
            "Epoch [100/100], Loss: 0.941879\n",
            "Predicted price: 0.039187751710414886\n"
          ]
        }
      ],
      "source": [
        "import torch\n",
        "import torch.nn as nn\n",
        "import numpy as np\n",
        "import torch.optim as optim\n",
        "\n",
        "# Create a synthetic dataset for demonstration purposes\n",
        "# Generate random stock prices\n",
        "num_samples = 1000\n",
        "seq_length = 10  # Sequence length for each input\n",
        "num_features = 1  # Only using the stock price as a feature\n",
        "\n",
        "# Creating synthetic stock price data\n",
        "stock_prices = np.random.randn(num_samples)\n",
        "\n",
        "# Prepare the data\n",
        "input_data = []\n",
        "target_data = []\n",
        "\n",
        "for i in range(len(stock_prices) - seq_length):\n",
        "    input_data.append(stock_prices[i:i + seq_length])\n",
        "    target_data.append(stock_prices[i + seq_length])\n",
        "\n",
        "input_data = np.array(input_data)\n",
        "target_data = np.array(target_data)\n",
        "\n",
        "# Convert data to PyTorch tensors\n",
        "input_tensor = torch.from_numpy(input_data).unsqueeze(-1).float()\n",
        "target_tensor = torch.from_numpy(target_data).unsqueeze(-1).float()\n",
        "\n",
        "# Define a GRU-based model\n",
        "class StockPriceGRU(nn.Module):\n",
        "    def __init__(self, input_size, hidden_size, num_layers=1):\n",
        "        super(StockPriceGRU, self).__init__()\n",
        "        self.hidden_size = hidden_size\n",
        "        self.num_layers = num_layers\n",
        "        self.gru = nn.GRU(input_size, hidden_size, num_layers, batch_first=True)\n",
        "        self.fc = nn.Linear(hidden_size, 1)\n",
        "\n",
        "    def forward(self, x):\n",
        "        h0 = torch.zeros(self.num_layers, x.size(0), self.hidden_size).to(x.device)\n",
        "        out, _ = self.gru(x, h0)\n",
        "        out = self.fc(out[:, -1, :])  # Taking only the last output\n",
        "        return out\n",
        "\n",
        "# Define hyperparameters\n",
        "input_size = num_features\n",
        "hidden_size = 64\n",
        "num_layers = 1\n",
        "learning_rate = 0.001\n",
        "num_epochs = 100\n",
        "\n",
        "# Instantiate the model, define loss function and optimizer\n",
        "model = StockPriceGRU(input_size, hidden_size, num_layers)\n",
        "criterion = nn.MSELoss()\n",
        "optimizer = optim.Adam(model.parameters(), lr=learning_rate)\n",
        "\n",
        "# Training loop\n",
        "for epoch in range(num_epochs):\n",
        "    model.train()\n",
        "    outputs = model(input_tensor)\n",
        "    loss = criterion(outputs, target_tensor)\n",
        "\n",
        "    optimizer.zero_grad()\n",
        "    loss.backward()\n",
        "    optimizer.step()\n",
        "\n",
        "    if (epoch + 1) % 10 == 0:\n",
        "        print(f'Epoch [{epoch+1}/{num_epochs}], Loss: {loss.item():.6f}')\n",
        "\n",
        "# Predictions\n",
        "model.eval()\n",
        "with torch.no_grad():\n",
        "    test_input = input_tensor[-1].unsqueeze(0)  # Taking the last sequence for prediction\n",
        "    predicted = model(test_input)\n",
        "    print(f\"Predicted price: {predicted.item()}\")\n"
      ]
    },
    {
      "cell_type": "code",
      "source": [],
      "metadata": {
        "id": "4yqbMTDV7QAL"
      },
      "execution_count": null,
      "outputs": []
    }
  ]
}