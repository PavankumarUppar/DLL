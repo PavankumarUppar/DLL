{
  "nbformat": 4,
  "nbformat_minor": 0,
  "metadata": {
    "colab": {
      "provenance": [],
      "authorship_tag": "ABX9TyMG6M7UY+Fkw1QYslfmhM46",
      "include_colab_link": true
    },
    "kernelspec": {
      "name": "python3",
      "display_name": "Python 3"
    },
    "language_info": {
      "name": "python"
    }
  },
  "cells": [
    {
      "cell_type": "markdown",
      "metadata": {
        "id": "view-in-github",
        "colab_type": "text"
      },
      "source": [
        "<a href=\"https://colab.research.google.com/github/PavankumarUppar/DLL/blob/main/Program8.ipynb\" target=\"_parent\"><img src=\"https://colab.research.google.com/assets/colab-badge.svg\" alt=\"Open In Colab\"/></a>"
      ]
    },
    {
      "cell_type": "code",
      "execution_count": 2,
      "metadata": {
        "id": "__GazPay9XJs"
      },
      "outputs": [],
      "source": [
        "import torch\n",
        "import torch.nn as nn\n",
        "import torch.optim as optim\n",
        "from torch.utils.data import DataLoader, TensorDataset\n",
        "from sklearn.model_selection import train_test_split\n",
        "from sklearn.metrics import accuracy_score\n",
        "import numpy as np"
      ]
    },
    {
      "cell_type": "code",
      "source": [
        "def generate_synthetic_data(num_samples=1000, max_sequence_length=20, embedding_dim=50):\n",
        "    np.random.seed(42)\n",
        "    X = np.random.randint(0, 2, size=(num_samples, max_sequence_length))\n",
        "    y = np.random.randint(0, 2, size=(num_samples,))\n",
        "    return torch.tensor(X, dtype=torch.float32), torch.tensor(y, dtype=torch.long)"
      ],
      "metadata": {
        "id": "QiCSAPC19YBH"
      },
      "execution_count": 3,
      "outputs": []
    },
    {
      "cell_type": "code",
      "source": [
        "class SentimentLSTM(nn.Module):\n",
        "    def __init__(self, input_size, hidden_size, num_layers, output_size, embedding_dim):\n",
        "        super(SentimentLSTM, self).__init__()\n",
        "        self.embedding = nn.Embedding(input_size, embedding_dim)\n",
        "        self.lstm = nn.LSTM(embedding_dim, hidden_size, num_layers, batch_first=True)\n",
        "        self.fc = nn.Linear(hidden_size, output_size)\n",
        "        self.sigmoid = nn.Sigmoid()\n",
        "\n",
        "    def forward(self, x):\n",
        "        embedded = self.embedding(x)\n",
        "        lstm_out, _ = self.lstm(embedded)\n",
        "        lstm_out = lstm_out[:, -1, :]\n",
        "        output = self.fc(lstm_out)\n",
        "        output = self.sigmoid(output)\n",
        "        return output"
      ],
      "metadata": {
        "id": "3XNkIbFw-IX-"
      },
      "execution_count": 4,
      "outputs": []
    },
    {
      "cell_type": "code",
      "source": [
        "input_size = 200\n",
        "hidden_size = 64\n",
        "num_layers = 2\n",
        "output_size = 1\n",
        "embedding_dim = 50"
      ],
      "metadata": {
        "id": "m0QrCVLp-J-e"
      },
      "execution_count": 18,
      "outputs": []
    },
    {
      "cell_type": "code",
      "source": [
        "model = SentimentLSTM(input_size, hidden_size, num_layers, output_size, embedding_dim)\n",
        "criterion = nn.BCELoss()\n",
        "optimizer = optim.Adam(model.parameters(), lr=0.001)"
      ],
      "metadata": {
        "id": "WpLv3EsC-Ljl"
      },
      "execution_count": 19,
      "outputs": []
    },
    {
      "cell_type": "code",
      "source": [
        "X, y = generate_synthetic_data(num_samples=1000, max_sequence_length=20, embedding_dim=embedding_dim)"
      ],
      "metadata": {
        "id": "CQpJI78F-Nxe"
      },
      "execution_count": 21,
      "outputs": []
    },
    {
      "cell_type": "code",
      "source": [
        "X_train, X_test, y_train, y_test = train_test_split(X, y, test_size=0.2, random_state=42)"
      ],
      "metadata": {
        "id": "upX_PIQq-QVu"
      },
      "execution_count": 22,
      "outputs": []
    },
    {
      "cell_type": "code",
      "source": [
        "train_dataset = TensorDataset(X_train, y_train)\n",
        "test_dataset = TensorDataset(X_test, y_test)\n",
        "train_loader = DataLoader(train_dataset, batch_size=64, shuffle=True)\n",
        "test_loader = DataLoader(test_dataset, batch_size=64, shuffle=False)"
      ],
      "metadata": {
        "id": "olRU9P45-She"
      },
      "execution_count": 23,
      "outputs": []
    },
    {
      "cell_type": "code",
      "source": [
        "num_epochs = 10\n",
        "for epoch in range(num_epochs):\n",
        "    model.train()\n",
        "    for inputs, labels in train_loader:\n",
        "        optimizer.zero_grad()\n",
        "        outputs = model(inputs.long())\n",
        "        loss = criterion(outputs.squeeze(), labels.float())\n",
        "        loss.backward()\n",
        "        optimizer.step()"
      ],
      "metadata": {
        "id": "rtrJJAqa-UQ-"
      },
      "execution_count": 24,
      "outputs": []
    },
    {
      "cell_type": "code",
      "source": [
        "model.eval()\n",
        "all_predictions = []\n",
        "with torch.no_grad():\n",
        "    for inputs, labels in test_loader:\n",
        "        outputs = model(inputs.long())\n",
        "        predictions = (outputs.squeeze() > 0.5).long()\n",
        "        all_predictions.extend(predictions.tolist())"
      ],
      "metadata": {
        "id": "ci0za2Uk-XW2"
      },
      "execution_count": 25,
      "outputs": []
    },
    {
      "cell_type": "code",
      "source": [
        "accuracy = accuracy_score(y_test.numpy(), all_predictions)\n",
        "print(f\"Accuracy on test set: {accuracy * 100:.2f}%\")"
      ],
      "metadata": {
        "colab": {
          "base_uri": "https://localhost:8080/"
        },
        "id": "doZOGKRW-aj-",
        "outputId": "062861d6-3d13-45d4-a207-64f2192d15d6"
      },
      "execution_count": 26,
      "outputs": [
        {
          "output_type": "stream",
          "name": "stdout",
          "text": [
            "Accuracy on test set: 50.00%\n"
          ]
        }
      ]
    },
    {
      "cell_type": "code",
      "source": [
        "def preprocess_text_input(text, max_sequence_length=20):\n",
        "    tokens = [ord(char) for char in text]\n",
        "\n",
        "\n",
        "    if len(tokens) < max_sequence_length:\n",
        "        tokens += [0] * (max_sequence_length - len(tokens))\n",
        "    else:\n",
        "        tokens = tokens[:max_sequence_length]\n",
        "\n",
        "\n",
        "    tensor_input = torch.tensor(tokens, dtype=torch.long)\n",
        "\n",
        "    return tensor_input\n",
        "\n",
        "\n",
        "custom_input_text = \"This is a positive example.\"\n",
        "\n",
        "\n",
        "custom_input_tensor = preprocess_text_input(custom_input_text)\n",
        "\n",
        "\n",
        "model.eval()\n",
        "\n",
        "\n",
        "print(f\"Token Indices: {custom_input_tensor}\")\n",
        "\n",
        "\n",
        "with torch.no_grad():\n",
        "    try:\n",
        "        output = model(custom_input_tensor.unsqueeze(0))\n",
        "        predicted_sentiment = \"Positive\" if output.item() > 0.5 else \"Negative\"\n",
        "        print(f\"Predicted sentiment: {predicted_sentiment} (Probability: {output.item():.4f})\")\n",
        "    except IndexError as e:\n",
        "        print(f\"Error: {e}\")\n",
        "        print(\"Check if the token indices in the custom input are within the specified vocabulary size.\")\n"
      ],
      "metadata": {
        "colab": {
          "base_uri": "https://localhost:8080/"
        },
        "id": "xhMgkKO6-cvW",
        "outputId": "a29b3b90-0c12-41cc-e33c-25a4d4770bff"
      },
      "execution_count": 27,
      "outputs": [
        {
          "output_type": "stream",
          "name": "stdout",
          "text": [
            "Token Indices: tensor([ 84, 104, 105, 115,  32, 105, 115,  32,  97,  32, 112, 111, 115, 105,\n",
            "        116, 105, 118, 101,  32, 101])\n",
            "Predicted sentiment: Positive (Probability: 0.5128)\n"
          ]
        }
      ]
    },
    {
      "cell_type": "code",
      "source": [],
      "metadata": {
        "id": "8PJwoInFBPZu"
      },
      "execution_count": null,
      "outputs": []
    }
  ]
}