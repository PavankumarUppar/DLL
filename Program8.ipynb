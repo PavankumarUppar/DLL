{
  "nbformat": 4,
  "nbformat_minor": 0,
  "metadata": {
    "colab": {
      "provenance": [],
      "authorship_tag": "ABX9TyOJgrN2HI2PcDKFKdtt3PpY",
      "include_colab_link": true
    },
    "kernelspec": {
      "name": "python3",
      "display_name": "Python 3"
    },
    "language_info": {
      "name": "python"
    }
  },
  "cells": [
    {
      "cell_type": "markdown",
      "metadata": {
        "id": "view-in-github",
        "colab_type": "text"
      },
      "source": [
        "<a href=\"https://colab.research.google.com/github/PavankumarUppar/DLL/blob/main/Program8.ipynb\" target=\"_parent\"><img src=\"https://colab.research.google.com/assets/colab-badge.svg\" alt=\"Open In Colab\"/></a>"
      ]
    },
    {
      "cell_type": "code",
      "execution_count": 1,
      "metadata": {
        "colab": {
          "base_uri": "https://localhost:8080/"
        },
        "id": "mtqXoL4dsA0j",
        "outputId": "cbcaf826-1bbe-4ad9-f9e9-246711cb5878"
      },
      "outputs": [
        {
          "output_type": "stream",
          "name": "stdout",
          "text": [
            "Epoch 1/10\n",
            "1/1 - 7s - loss: 0.6915 - accuracy: 0.6667 - 7s/epoch - 7s/step\n",
            "Epoch 2/10\n",
            "1/1 - 0s - loss: 0.6889 - accuracy: 0.8333 - 30ms/epoch - 30ms/step\n",
            "Epoch 3/10\n",
            "1/1 - 0s - loss: 0.6863 - accuracy: 1.0000 - 24ms/epoch - 24ms/step\n",
            "Epoch 4/10\n",
            "1/1 - 0s - loss: 0.6834 - accuracy: 1.0000 - 15ms/epoch - 15ms/step\n",
            "Epoch 5/10\n",
            "1/1 - 0s - loss: 0.6802 - accuracy: 1.0000 - 23ms/epoch - 23ms/step\n",
            "Epoch 6/10\n",
            "1/1 - 0s - loss: 0.6766 - accuracy: 1.0000 - 28ms/epoch - 28ms/step\n",
            "Epoch 7/10\n",
            "1/1 - 0s - loss: 0.6725 - accuracy: 1.0000 - 23ms/epoch - 23ms/step\n",
            "Epoch 8/10\n",
            "1/1 - 0s - loss: 0.6678 - accuracy: 1.0000 - 29ms/epoch - 29ms/step\n",
            "Epoch 9/10\n",
            "1/1 - 0s - loss: 0.6624 - accuracy: 1.0000 - 27ms/epoch - 27ms/step\n",
            "Epoch 10/10\n",
            "1/1 - 0s - loss: 0.6562 - accuracy: 1.0000 - 28ms/epoch - 28ms/step\n"
          ]
        },
        {
          "output_type": "execute_result",
          "data": {
            "text/plain": [
              "<keras.src.callbacks.History at 0x7e88d70c5750>"
            ]
          },
          "metadata": {},
          "execution_count": 1
        }
      ],
      "source": [
        "import numpy as np\n",
        "from keras.models import Sequential\n",
        "from keras.layers import Embedding, LSTM, Dense\n",
        "from keras.preprocessing.text import Tokenizer\n",
        "from keras.preprocessing.sequence import pad_sequences\n",
        "from keras.utils import to_categorical\n",
        "\n",
        "# Generate synthetic sentiment data\n",
        "positive_reviews = [\"I love this product!\", \"This is amazing.\", \"Highly recommended.\"]\n",
        "negative_reviews = [\"I hate it.\", \"Terrible experience.\", \"Waste of money.\"]\n",
        "\n",
        "# Create labels for sentiment data (1 for positive, 0 for negative)\n",
        "labels = [1] * len(positive_reviews) + [0] * len(negative_reviews)\n",
        "\n",
        "# Combine positive and negative reviews\n",
        "all_reviews = positive_reviews + negative_reviews\n",
        "\n",
        "# Tokenize the text data\n",
        "tokenizer = Tokenizer()\n",
        "tokenizer.fit_on_texts(all_reviews)\n",
        "total_words = len(tokenizer.word_index) + 1\n",
        "\n",
        "# Convert text to sequences\n",
        "sequences = tokenizer.texts_to_sequences(all_reviews)\n",
        "\n",
        "# Pad sequences to have the same length\n",
        "max_sequence_length = max(len(seq) for seq in sequences)\n",
        "padded_sequences = pad_sequences(sequences, maxlen=max_sequence_length, padding='post')\n",
        "\n",
        "# Convert labels to categorical\n",
        "labels = to_categorical(labels, num_classes=2)\n",
        "\n",
        "# Build the LSTM model\n",
        "embedding_dim = 50  # You can adjust this dimension based on your data and requirements\n",
        "model = Sequential()\n",
        "model.add(Embedding(input_dim=total_words, output_dim=embedding_dim, input_length=max_sequence_length))\n",
        "model.add(LSTM(100))  # You can adjust the number of LSTM units\n",
        "model.add(Dense(2, activation='softmax'))  # 2 output classes (positive and negative)\n",
        "\n",
        "# Compile the model\n",
        "model.compile(loss='categorical_crossentropy', optimizer='adam', metrics=['accuracy'])\n",
        "\n",
        "# Train the model\n",
        "model.fit(padded_sequences, labels, epochs=10, verbose=2)\n",
        "\n",
        "# Now you can use the trained model for sentiment analysis on new data\n",
        "# For example, you can use model.predict(new_padded_sequence) to get predictions.\n"
      ]
    },
    {
      "cell_type": "code",
      "source": [],
      "metadata": {
        "id": "rJKTXLfxsRrO"
      },
      "execution_count": null,
      "outputs": []
    }
  ]
}