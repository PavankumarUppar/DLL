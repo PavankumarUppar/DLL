{
  "nbformat": 4,
  "nbformat_minor": 0,
  "metadata": {
    "colab": {
      "provenance": [],
      "authorship_tag": "ABX9TyNSeLqrGM2BYL4K51ReCaxw",
      "include_colab_link": true
    },
    "kernelspec": {
      "name": "python3",
      "display_name": "Python 3"
    },
    "language_info": {
      "name": "python"
    }
  },
  "cells": [
    {
      "cell_type": "markdown",
      "metadata": {
        "id": "view-in-github",
        "colab_type": "text"
      },
      "source": [
        "<a href=\"https://colab.research.google.com/github/PavankumarUppar/DLL/blob/main/Program8.ipynb\" target=\"_parent\"><img src=\"https://colab.research.google.com/assets/colab-badge.svg\" alt=\"Open In Colab\"/></a>"
      ]
    },
    {
      "cell_type": "code",
      "execution_count": null,
      "metadata": {
        "colab": {
          "base_uri": "https://localhost:8080/"
        },
        "id": "ooKV8QxN8mIf",
        "outputId": "4eacda6d-7250-4a12-d627-c7359cf31d4a"
      },
      "outputs": [
        {
          "output_type": "stream",
          "name": "stdout",
          "text": [
            "Accuracy on test set: 50.00%\n"
          ]
        }
      ],
      "source": [
        "import torch\n",
        "import torch.nn as nn\n",
        "import torch.optim as optim\n",
        "from torch.utils.data import DataLoader, TensorDataset\n",
        "from sklearn.model_selection import train_test_split\n",
        "from sklearn.metrics import accuracy_score\n",
        "import numpy as np\n",
        "\n",
        "# Generate synthetic data\n",
        "def generate_synthetic_data(num_samples=1000, max_sequence_length=20, embedding_dim=50):\n",
        "    np.random.seed(42)\n",
        "    X = np.random.randint(0, 2, size=(num_samples, max_sequence_length))\n",
        "    y = np.random.randint(0, 2, size=(num_samples,))\n",
        "    return torch.tensor(X, dtype=torch.float32), torch.tensor(y, dtype=torch.long)\n",
        "\n",
        "# LSTM-based sentiment analysis model\n",
        "class SentimentLSTM(nn.Module):\n",
        "    def __init__(self, input_size, hidden_size, num_layers, output_size, embedding_dim):\n",
        "        super(SentimentLSTM, self).__init__()\n",
        "        self.embedding = nn.Embedding(input_size, embedding_dim)\n",
        "        self.lstm = nn.LSTM(embedding_dim, hidden_size, num_layers, batch_first=True)\n",
        "        self.fc = nn.Linear(hidden_size, output_size)\n",
        "        self.sigmoid = nn.Sigmoid()\n",
        "\n",
        "    def forward(self, x):\n",
        "        embedded = self.embedding(x)\n",
        "        lstm_out, _ = self.lstm(embedded)\n",
        "        lstm_out = lstm_out[:, -1, :]\n",
        "        output = self.fc(lstm_out)\n",
        "        output = self.sigmoid(output)\n",
        "        return output\n",
        "\n",
        "# Hyperparameters\n",
        "input_size = 2  # Binary input (0 or 1)\n",
        "hidden_size = 64\n",
        "num_layers = 2\n",
        "output_size = 1  # Binary output (sigmoid activation)\n",
        "embedding_dim = 50  # Define the embedding dimension\n",
        "\n",
        "# Instantiate the model, loss function, and optimizer\n",
        "model = SentimentLSTM(input_size, hidden_size, num_layers, output_size, embedding_dim)\n",
        "criterion = nn.BCELoss()\n",
        "optimizer = optim.Adam(model.parameters(), lr=0.001)\n",
        "\n",
        "# Generate synthetic data\n",
        "X, y = generate_synthetic_data(num_samples=1000, max_sequence_length=20, embedding_dim=embedding_dim)\n",
        "\n",
        "# Split the data into training and testing sets\n",
        "X_train, X_test, y_train, y_test = train_test_split(X, y, test_size=0.2, random_state=42)\n",
        "\n",
        "# DataLoader\n",
        "train_dataset = TensorDataset(X_train, y_train)\n",
        "test_dataset = TensorDataset(X_test, y_test)\n",
        "train_loader = DataLoader(train_dataset, batch_size=64, shuffle=True)\n",
        "test_loader = DataLoader(test_dataset, batch_size=64, shuffle=False)\n",
        "\n",
        "# Training loop\n",
        "num_epochs = 10\n",
        "for epoch in range(num_epochs):\n",
        "    model.train()\n",
        "    for inputs, labels in train_loader:\n",
        "        optimizer.zero_grad()\n",
        "        outputs = model(inputs.long())\n",
        "        loss = criterion(outputs.squeeze(), labels.float())\n",
        "        loss.backward()\n",
        "        optimizer.step()\n",
        "\n",
        "# Evaluation\n",
        "model.eval()\n",
        "all_predictions = []\n",
        "with torch.no_grad():\n",
        "    for inputs, labels in test_loader:\n",
        "        outputs = model(inputs.long())\n",
        "        predictions = (outputs.squeeze() > 0.5).long()\n",
        "        all_predictions.extend(predictions.tolist())\n",
        "\n",
        "accuracy = accuracy_score(y_test.numpy(), all_predictions)\n",
        "print(f\"Accuracy on test set: {accuracy * 100:.2f}%\")\n"
      ]
    },
    {
      "cell_type": "code",
      "source": [],
      "metadata": {
        "id": "wR_QBDgA8nVX"
      },
      "execution_count": null,
      "outputs": []
    }
  ]
}